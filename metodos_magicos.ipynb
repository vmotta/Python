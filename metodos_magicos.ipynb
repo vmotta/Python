{
  "nbformat": 4,
  "nbformat_minor": 0,
  "metadata": {
    "colab": {
      "provenance": [],
      "authorship_tag": "ABX9TyOmVLy9o8xiBebcvrHZHZew",
      "include_colab_link": true
    },
    "kernelspec": {
      "name": "python3",
      "display_name": "Python 3"
    },
    "language_info": {
      "name": "python"
    }
  },
  "cells": [
    {
      "cell_type": "markdown",
      "metadata": {
        "id": "view-in-github",
        "colab_type": "text"
      },
      "source": [
        "<a href=\"https://colab.research.google.com/github/vmotta/Python/blob/master/metodos_magicos.ipynb\" target=\"_parent\"><img src=\"https://colab.research.google.com/assets/colab-badge.svg\" alt=\"Open In Colab\"/></a>"
      ]
    },
    {
      "cell_type": "code",
      "execution_count": null,
      "metadata": {
        "id": "3-a5tnc4y6X0"
      },
      "outputs": [],
      "source": [
        "# Classe ExemploCompleto demonstra o uso dos principais métodos mágicos do Python\n",
        "class ExemploCompleto:\n",
        "    # __init__ é chamado ao instanciar a classe (construtor)\n",
        "    def __init__(self, nome):\n",
        "        self.nome = nome\n",
        "        self._dados = {}\n",
        "\n",
        "    # __str__ define como o objeto será mostrado ao usar print()\n",
        "    def __str__(self):\n",
        "        return f\"Olá! Eu sou {self.nome}.\"\n",
        "\n",
        "    # __repr__ é usado no modo interativo e para debugging\n",
        "    def __repr__(self):\n",
        "        return f\"ExemploCompleto(nome='{self.nome}')\"\n",
        "\n",
        "    # __len__ define o que acontece ao usar len(obj)\n",
        "    def __len__(self):\n",
        "        return len(self.nome)\n",
        "\n",
        "    # __getitem__ permite acessar valores usando colchetes, como dicionário\n",
        "    def __getitem__(self, chave):\n",
        "        return self._dados.get(chave, f\"Nenhum valor associado à chave '{chave}'.\")\n",
        "\n",
        "    # __setitem__ permite atribuição usando colchetes, como dicionário\n",
        "    def __setitem__(self, chave, valor):\n",
        "        self._dados[chave] = valor\n",
        "\n",
        "    # __eq__ compara se dois objetos são iguais (==)\n",
        "    def __eq__(self, outro):\n",
        "        return self.nome == outro.nome\n",
        "\n",
        "    # __lt__ compara se um objeto é menor que outro (<)\n",
        "    def __lt__(self, outro):\n",
        "        return len(self.nome) < len(outro.nome)\n",
        "\n",
        "    # __add__ permite somar dois objetos com +\n",
        "    def __add__(self, outro):\n",
        "        return ExemploCompleto(self.nome + outro.nome)\n",
        "\n",
        "    # __call__ permite que o objeto seja chamado como uma função\n",
        "    def __call__(self):\n",
        "        print(f\"{self.nome} foi chamado como uma função!\")\n",
        "\n",
        "    # __enter__ e __exit__ permitem uso do objeto com a instrução with\n",
        "    def __enter__(self):\n",
        "        print(f\"Entrando no contexto de {self.nome}\")\n",
        "        return self\n",
        "\n",
        "    def __exit__(self, exc_type, exc_value, traceback):\n",
        "        print(f\"Saindo do contexto de {self.nome}\")\n",
        "\n",
        "# Testando todos os métodos mágicos\n",
        "obj1 = ExemploCompleto(\"Python\")\n",
        "obj2 = ExemploCompleto(\"POO\")\n",
        "\n",
        "print(\"▶️ __str__:\", obj1)\n",
        "print(\"▶️ __repr__:\", repr(obj1))\n",
        "print(\"▶️ __len__:\", len(obj1))\n",
        "\n",
        "print(\"\\n▶️ __setitem__ e __getitem__:\")\n",
        "obj1[\"curso\"] = \"Programação Orientada a Objetos\"\n",
        "print(\"Curso:\", obj1[\"curso\"])\n",
        "print(\"Descrição:\", obj1[\"descricao\"])  # chave inexistente\n",
        "\n",
        "print(\"\\n▶️ __eq__ e __lt__:\")\n",
        "print(\"É igual a obj2?\", obj1 == obj2)\n",
        "print(\"É menor que obj2?\", obj1 < obj2)\n",
        "\n",
        "print(\"\\n▶️ __add__:\")\n",
        "obj3 = obj1 + obj2\n",
        "print(\"Resultado da soma:\", obj3)\n",
        "\n",
        "print(\"\\n▶️ __call__:\")\n",
        "obj1()\n",
        "\n",
        "print(\"\\n▶️ __enter__ e __exit__:\")\n",
        "with obj1 as contexto:\n",
        "    print(\"Usando o objeto dentro do contexto.\")\n",
        "\n"
      ]
    }
  ]
}